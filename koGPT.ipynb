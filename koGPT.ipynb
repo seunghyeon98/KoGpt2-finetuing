{
  "nbformat": 4,
  "nbformat_minor": 0,
  "metadata": {
    "colab": {
      "provenance": [],
      "machine_shape": "hm",
      "mount_file_id": "1SA_NgPUq1wM5lIyzTu-bGJJdruFdv3_Z",
      "authorship_tag": "ABX9TyN/qCN/J6oK1csoUzBBBqvd",
      "include_colab_link": true
    },
    "kernelspec": {
      "name": "python3",
      "display_name": "Python 3"
    },
    "language_info": {
      "name": "python"
    },
    "accelerator": "GPU",
    "gpuClass": "standard"
  },
  "cells": [
    {
      "cell_type": "markdown",
      "metadata": {
        "id": "view-in-github",
        "colab_type": "text"
      },
      "source": [
        "<a href=\"https://colab.research.google.com/github/seunghyeon98/KoGpt2-finetuing/blob/main/koGPT.ipynb\" target=\"_parent\"><img src=\"https://colab.research.google.com/assets/colab-badge.svg\" alt=\"Open In Colab\"/></a>"
      ]
    },
    {
      "cell_type": "markdown",
      "source": [
        "# 동화데이터 학습하기\n",
        "https://velog.io/@yeah7598/KoGPT2-%EB%8F%99%ED%99%94-%EB%8D%B0%EC%9D%B4%ED%84%B0-%ED%95%99%EC%8A%B5%ED%95%98%EA%B8%B0\n",
        "\n",
        "\n",
        "## 깃 주소\n",
        "https://github.com/ttop32/KoGPT2novel/blob/main/train.ipynb"
      ],
      "metadata": {
        "id": "G-g_q6sT5EpU"
      }
    },
    {
      "cell_type": "code",
      "source": [
        "!pip install quickspacer\n"
      ],
      "metadata": {
        "id": "ZbTePPPN9hYF",
        "colab": {
          "base_uri": "https://localhost:8080/"
        },
        "outputId": "bf9048a2-1a47-4290-f003-e1f8fe0323b6"
      },
      "execution_count": 18,
      "outputs": [
        {
          "output_type": "stream",
          "name": "stdout",
          "text": [
            "Looking in indexes: https://pypi.org/simple, https://us-python.pkg.dev/colab-wheels/public/simple/\n",
            "Requirement already satisfied: quickspacer in /usr/local/lib/python3.8/dist-packages (1.0.4)\n",
            "Requirement already satisfied: tensorflow>=2.0.0 in /usr/local/lib/python3.8/dist-packages (from quickspacer) (2.9.2)\n",
            "Requirement already satisfied: six>=1.12.0 in /usr/local/lib/python3.8/dist-packages (from tensorflow>=2.0.0->quickspacer) (1.15.0)\n",
            "Requirement already satisfied: wrapt>=1.11.0 in /usr/local/lib/python3.8/dist-packages (from tensorflow>=2.0.0->quickspacer) (1.14.1)\n",
            "Requirement already satisfied: flatbuffers<2,>=1.12 in /usr/local/lib/python3.8/dist-packages (from tensorflow>=2.0.0->quickspacer) (1.12)\n",
            "Requirement already satisfied: tensorflow-estimator<2.10.0,>=2.9.0rc0 in /usr/local/lib/python3.8/dist-packages (from tensorflow>=2.0.0->quickspacer) (2.9.0)\n",
            "Requirement already satisfied: protobuf<3.20,>=3.9.2 in /usr/local/lib/python3.8/dist-packages (from tensorflow>=2.0.0->quickspacer) (3.19.6)\n",
            "Requirement already satisfied: tensorflow-io-gcs-filesystem>=0.23.1 in /usr/local/lib/python3.8/dist-packages (from tensorflow>=2.0.0->quickspacer) (0.29.0)\n",
            "Requirement already satisfied: grpcio<2.0,>=1.24.3 in /usr/local/lib/python3.8/dist-packages (from tensorflow>=2.0.0->quickspacer) (1.51.1)\n",
            "Requirement already satisfied: libclang>=13.0.0 in /usr/local/lib/python3.8/dist-packages (from tensorflow>=2.0.0->quickspacer) (15.0.6.1)\n",
            "Requirement already satisfied: numpy>=1.20 in /usr/local/lib/python3.8/dist-packages (from tensorflow>=2.0.0->quickspacer) (1.21.6)\n",
            "Requirement already satisfied: packaging in /usr/local/lib/python3.8/dist-packages (from tensorflow>=2.0.0->quickspacer) (21.3)\n",
            "Requirement already satisfied: keras-preprocessing>=1.1.1 in /usr/local/lib/python3.8/dist-packages (from tensorflow>=2.0.0->quickspacer) (1.1.2)\n",
            "Requirement already satisfied: astunparse>=1.6.0 in /usr/local/lib/python3.8/dist-packages (from tensorflow>=2.0.0->quickspacer) (1.6.3)\n",
            "Requirement already satisfied: opt-einsum>=2.3.2 in /usr/local/lib/python3.8/dist-packages (from tensorflow>=2.0.0->quickspacer) (3.3.0)\n",
            "Requirement already satisfied: h5py>=2.9.0 in /usr/local/lib/python3.8/dist-packages (from tensorflow>=2.0.0->quickspacer) (3.1.0)\n",
            "Requirement already satisfied: absl-py>=1.0.0 in /usr/local/lib/python3.8/dist-packages (from tensorflow>=2.0.0->quickspacer) (1.3.0)\n",
            "Requirement already satisfied: google-pasta>=0.1.1 in /usr/local/lib/python3.8/dist-packages (from tensorflow>=2.0.0->quickspacer) (0.2.0)\n",
            "Requirement already satisfied: gast<=0.4.0,>=0.2.1 in /usr/local/lib/python3.8/dist-packages (from tensorflow>=2.0.0->quickspacer) (0.4.0)\n",
            "Requirement already satisfied: setuptools in /usr/local/lib/python3.8/dist-packages (from tensorflow>=2.0.0->quickspacer) (57.4.0)\n",
            "Requirement already satisfied: termcolor>=1.1.0 in /usr/local/lib/python3.8/dist-packages (from tensorflow>=2.0.0->quickspacer) (2.2.0)\n",
            "Requirement already satisfied: typing-extensions>=3.6.6 in /usr/local/lib/python3.8/dist-packages (from tensorflow>=2.0.0->quickspacer) (4.4.0)\n",
            "Requirement already satisfied: tensorboard<2.10,>=2.9 in /usr/local/lib/python3.8/dist-packages (from tensorflow>=2.0.0->quickspacer) (2.9.1)\n",
            "Requirement already satisfied: keras<2.10.0,>=2.9.0rc0 in /usr/local/lib/python3.8/dist-packages (from tensorflow>=2.0.0->quickspacer) (2.9.0)\n",
            "Requirement already satisfied: wheel<1.0,>=0.23.0 in /usr/local/lib/python3.8/dist-packages (from astunparse>=1.6.0->tensorflow>=2.0.0->quickspacer) (0.38.4)\n",
            "Requirement already satisfied: tensorboard-data-server<0.7.0,>=0.6.0 in /usr/local/lib/python3.8/dist-packages (from tensorboard<2.10,>=2.9->tensorflow>=2.0.0->quickspacer) (0.6.1)\n",
            "Requirement already satisfied: tensorboard-plugin-wit>=1.6.0 in /usr/local/lib/python3.8/dist-packages (from tensorboard<2.10,>=2.9->tensorflow>=2.0.0->quickspacer) (1.8.1)\n",
            "Requirement already satisfied: markdown>=2.6.8 in /usr/local/lib/python3.8/dist-packages (from tensorboard<2.10,>=2.9->tensorflow>=2.0.0->quickspacer) (3.4.1)\n",
            "Requirement already satisfied: werkzeug>=1.0.1 in /usr/local/lib/python3.8/dist-packages (from tensorboard<2.10,>=2.9->tensorflow>=2.0.0->quickspacer) (1.0.1)\n",
            "Requirement already satisfied: google-auth<3,>=1.6.3 in /usr/local/lib/python3.8/dist-packages (from tensorboard<2.10,>=2.9->tensorflow>=2.0.0->quickspacer) (2.16.0)\n",
            "Requirement already satisfied: google-auth-oauthlib<0.5,>=0.4.1 in /usr/local/lib/python3.8/dist-packages (from tensorboard<2.10,>=2.9->tensorflow>=2.0.0->quickspacer) (0.4.6)\n",
            "Requirement already satisfied: requests<3,>=2.21.0 in /usr/local/lib/python3.8/dist-packages (from tensorboard<2.10,>=2.9->tensorflow>=2.0.0->quickspacer) (2.25.1)\n",
            "Requirement already satisfied: pyparsing!=3.0.5,>=2.0.2 in /usr/local/lib/python3.8/dist-packages (from packaging->tensorflow>=2.0.0->quickspacer) (3.0.9)\n",
            "Requirement already satisfied: pyasn1-modules>=0.2.1 in /usr/local/lib/python3.8/dist-packages (from google-auth<3,>=1.6.3->tensorboard<2.10,>=2.9->tensorflow>=2.0.0->quickspacer) (0.2.8)\n",
            "Requirement already satisfied: cachetools<6.0,>=2.0.0 in /usr/local/lib/python3.8/dist-packages (from google-auth<3,>=1.6.3->tensorboard<2.10,>=2.9->tensorflow>=2.0.0->quickspacer) (5.2.1)\n",
            "Requirement already satisfied: rsa<5,>=3.1.4 in /usr/local/lib/python3.8/dist-packages (from google-auth<3,>=1.6.3->tensorboard<2.10,>=2.9->tensorflow>=2.0.0->quickspacer) (4.9)\n",
            "Requirement already satisfied: requests-oauthlib>=0.7.0 in /usr/local/lib/python3.8/dist-packages (from google-auth-oauthlib<0.5,>=0.4.1->tensorboard<2.10,>=2.9->tensorflow>=2.0.0->quickspacer) (1.3.1)\n",
            "Requirement already satisfied: importlib-metadata>=4.4 in /usr/local/lib/python3.8/dist-packages (from markdown>=2.6.8->tensorboard<2.10,>=2.9->tensorflow>=2.0.0->quickspacer) (6.0.0)\n",
            "Requirement already satisfied: urllib3<1.27,>=1.21.1 in /usr/local/lib/python3.8/dist-packages (from requests<3,>=2.21.0->tensorboard<2.10,>=2.9->tensorflow>=2.0.0->quickspacer) (1.24.3)\n",
            "Requirement already satisfied: certifi>=2017.4.17 in /usr/local/lib/python3.8/dist-packages (from requests<3,>=2.21.0->tensorboard<2.10,>=2.9->tensorflow>=2.0.0->quickspacer) (2022.12.7)\n",
            "Requirement already satisfied: idna<3,>=2.5 in /usr/local/lib/python3.8/dist-packages (from requests<3,>=2.21.0->tensorboard<2.10,>=2.9->tensorflow>=2.0.0->quickspacer) (2.10)\n",
            "Requirement already satisfied: chardet<5,>=3.0.2 in /usr/local/lib/python3.8/dist-packages (from requests<3,>=2.21.0->tensorboard<2.10,>=2.9->tensorflow>=2.0.0->quickspacer) (4.0.0)\n",
            "Requirement already satisfied: zipp>=0.5 in /usr/local/lib/python3.8/dist-packages (from importlib-metadata>=4.4->markdown>=2.6.8->tensorboard<2.10,>=2.9->tensorflow>=2.0.0->quickspacer) (3.11.0)\n",
            "Requirement already satisfied: pyasn1<0.5.0,>=0.4.6 in /usr/local/lib/python3.8/dist-packages (from pyasn1-modules>=0.2.1->google-auth<3,>=1.6.3->tensorboard<2.10,>=2.9->tensorflow>=2.0.0->quickspacer) (0.4.8)\n",
            "Requirement already satisfied: oauthlib>=3.0.0 in /usr/local/lib/python3.8/dist-packages (from requests-oauthlib>=0.7.0->google-auth-oauthlib<0.5,>=0.4.1->tensorboard<2.10,>=2.9->tensorflow>=2.0.0->quickspacer) (3.2.2)\n"
          ]
        }
      ]
    },
    {
      "cell_type": "code",
      "execution_count": 19,
      "metadata": {
        "id": "2fB4Aoti2-ds",
        "colab": {
          "base_uri": "https://localhost:8080/"
        },
        "outputId": "d84a10ec-6b13-4bc9-bfb9-d403ddc8f80e"
      },
      "outputs": [
        {
          "output_type": "stream",
          "name": "stdout",
          "text": [
            "Looking in indexes: https://pypi.org/simple, https://us-python.pkg.dev/colab-wheels/public/simple/\n",
            "Requirement already satisfied: transformers in /usr/local/lib/python3.8/dist-packages (4.26.0)\n",
            "Requirement already satisfied: regex!=2019.12.17 in /usr/local/lib/python3.8/dist-packages (from transformers) (2022.6.2)\n",
            "Requirement already satisfied: numpy>=1.17 in /usr/local/lib/python3.8/dist-packages (from transformers) (1.21.6)\n",
            "Requirement already satisfied: pyyaml>=5.1 in /usr/local/lib/python3.8/dist-packages (from transformers) (6.0)\n",
            "Requirement already satisfied: tokenizers!=0.11.3,<0.14,>=0.11.1 in /usr/local/lib/python3.8/dist-packages (from transformers) (0.13.2)\n",
            "Requirement already satisfied: filelock in /usr/local/lib/python3.8/dist-packages (from transformers) (3.9.0)\n",
            "Requirement already satisfied: tqdm>=4.27 in /usr/local/lib/python3.8/dist-packages (from transformers) (4.64.1)\n",
            "Requirement already satisfied: requests in /usr/local/lib/python3.8/dist-packages (from transformers) (2.25.1)\n",
            "Requirement already satisfied: packaging>=20.0 in /usr/local/lib/python3.8/dist-packages (from transformers) (21.3)\n",
            "Requirement already satisfied: huggingface-hub<1.0,>=0.11.0 in /usr/local/lib/python3.8/dist-packages (from transformers) (0.12.0)\n",
            "Requirement already satisfied: typing-extensions>=3.7.4.3 in /usr/local/lib/python3.8/dist-packages (from huggingface-hub<1.0,>=0.11.0->transformers) (4.4.0)\n",
            "Requirement already satisfied: pyparsing!=3.0.5,>=2.0.2 in /usr/local/lib/python3.8/dist-packages (from packaging>=20.0->transformers) (3.0.9)\n",
            "Requirement already satisfied: urllib3<1.27,>=1.21.1 in /usr/local/lib/python3.8/dist-packages (from requests->transformers) (1.24.3)\n",
            "Requirement already satisfied: certifi>=2017.4.17 in /usr/local/lib/python3.8/dist-packages (from requests->transformers) (2022.12.7)\n",
            "Requirement already satisfied: chardet<5,>=3.0.2 in /usr/local/lib/python3.8/dist-packages (from requests->transformers) (4.0.0)\n",
            "Requirement already satisfied: idna<3,>=2.5 in /usr/local/lib/python3.8/dist-packages (from requests->transformers) (2.10)\n",
            "Looking in indexes: https://pypi.org/simple, https://us-python.pkg.dev/colab-wheels/public/simple/\n",
            "Requirement already satisfied: fastai==2.2.5 in /usr/local/lib/python3.8/dist-packages (2.2.5)\n",
            "Requirement already satisfied: matplotlib in /usr/local/lib/python3.8/dist-packages (from fastai==2.2.5) (3.2.2)\n",
            "Requirement already satisfied: fastcore<1.4,>=1.3.8 in /usr/local/lib/python3.8/dist-packages (from fastai==2.2.5) (1.3.29)\n",
            "Requirement already satisfied: pillow>6.0.0 in /usr/local/lib/python3.8/dist-packages (from fastai==2.2.5) (7.1.2)\n",
            "Requirement already satisfied: scikit-learn in /usr/local/lib/python3.8/dist-packages (from fastai==2.2.5) (1.0.2)\n",
            "Requirement already satisfied: torchvision<0.9,>=0.8 in /usr/local/lib/python3.8/dist-packages (from fastai==2.2.5) (0.8.2)\n",
            "Requirement already satisfied: pyyaml in /usr/local/lib/python3.8/dist-packages (from fastai==2.2.5) (6.0)\n",
            "Requirement already satisfied: requests in /usr/local/lib/python3.8/dist-packages (from fastai==2.2.5) (2.25.1)\n",
            "Requirement already satisfied: scipy in /usr/local/lib/python3.8/dist-packages (from fastai==2.2.5) (1.7.3)\n",
            "Requirement already satisfied: spacy in /usr/local/lib/python3.8/dist-packages (from fastai==2.2.5) (3.4.4)\n",
            "Requirement already satisfied: pip in /usr/local/lib/python3.8/dist-packages (from fastai==2.2.5) (22.0.4)\n",
            "Requirement already satisfied: packaging in /usr/local/lib/python3.8/dist-packages (from fastai==2.2.5) (21.3)\n",
            "Requirement already satisfied: pandas in /usr/local/lib/python3.8/dist-packages (from fastai==2.2.5) (1.3.5)\n",
            "Requirement already satisfied: torch<1.8,>=1.7.0 in /usr/local/lib/python3.8/dist-packages (from fastai==2.2.5) (1.7.1)\n",
            "Requirement already satisfied: fastprogress>=0.2.4 in /usr/local/lib/python3.8/dist-packages (from fastai==2.2.5) (1.0.3)\n",
            "Requirement already satisfied: typing-extensions in /usr/local/lib/python3.8/dist-packages (from torch<1.8,>=1.7.0->fastai==2.2.5) (4.4.0)\n",
            "Requirement already satisfied: numpy in /usr/local/lib/python3.8/dist-packages (from torch<1.8,>=1.7.0->fastai==2.2.5) (1.21.6)\n",
            "Requirement already satisfied: pyparsing!=2.0.4,!=2.1.2,!=2.1.6,>=2.0.1 in /usr/local/lib/python3.8/dist-packages (from matplotlib->fastai==2.2.5) (3.0.9)\n",
            "Requirement already satisfied: python-dateutil>=2.1 in /usr/local/lib/python3.8/dist-packages (from matplotlib->fastai==2.2.5) (2.8.2)\n",
            "Requirement already satisfied: cycler>=0.10 in /usr/local/lib/python3.8/dist-packages (from matplotlib->fastai==2.2.5) (0.11.0)\n",
            "Requirement already satisfied: kiwisolver>=1.0.1 in /usr/local/lib/python3.8/dist-packages (from matplotlib->fastai==2.2.5) (1.4.4)\n",
            "Requirement already satisfied: pytz>=2017.3 in /usr/local/lib/python3.8/dist-packages (from pandas->fastai==2.2.5) (2022.7)\n",
            "Requirement already satisfied: chardet<5,>=3.0.2 in /usr/local/lib/python3.8/dist-packages (from requests->fastai==2.2.5) (4.0.0)\n",
            "Requirement already satisfied: certifi>=2017.4.17 in /usr/local/lib/python3.8/dist-packages (from requests->fastai==2.2.5) (2022.12.7)\n",
            "Requirement already satisfied: idna<3,>=2.5 in /usr/local/lib/python3.8/dist-packages (from requests->fastai==2.2.5) (2.10)\n",
            "Requirement already satisfied: urllib3<1.27,>=1.21.1 in /usr/local/lib/python3.8/dist-packages (from requests->fastai==2.2.5) (1.24.3)\n",
            "Requirement already satisfied: threadpoolctl>=2.0.0 in /usr/local/lib/python3.8/dist-packages (from scikit-learn->fastai==2.2.5) (3.1.0)\n",
            "Requirement already satisfied: joblib>=0.11 in /usr/local/lib/python3.8/dist-packages (from scikit-learn->fastai==2.2.5) (1.2.0)\n",
            "Requirement already satisfied: srsly<3.0.0,>=2.4.3 in /usr/local/lib/python3.8/dist-packages (from spacy->fastai==2.2.5) (2.4.5)\n",
            "Requirement already satisfied: typer<0.8.0,>=0.3.0 in /usr/local/lib/python3.8/dist-packages (from spacy->fastai==2.2.5) (0.7.0)\n",
            "Requirement already satisfied: thinc<8.2.0,>=8.1.0 in /usr/local/lib/python3.8/dist-packages (from spacy->fastai==2.2.5) (8.1.6)\n",
            "Requirement already satisfied: jinja2 in /usr/local/lib/python3.8/dist-packages (from spacy->fastai==2.2.5) (2.11.3)\n",
            "Requirement already satisfied: setuptools in /usr/local/lib/python3.8/dist-packages (from spacy->fastai==2.2.5) (57.4.0)\n",
            "Requirement already satisfied: langcodes<4.0.0,>=3.2.0 in /usr/local/lib/python3.8/dist-packages (from spacy->fastai==2.2.5) (3.3.0)\n",
            "Requirement already satisfied: cymem<2.1.0,>=2.0.2 in /usr/local/lib/python3.8/dist-packages (from spacy->fastai==2.2.5) (2.0.7)\n",
            "Requirement already satisfied: smart-open<7.0.0,>=5.2.1 in /usr/local/lib/python3.8/dist-packages (from spacy->fastai==2.2.5) (6.3.0)\n",
            "Requirement already satisfied: murmurhash<1.1.0,>=0.28.0 in /usr/local/lib/python3.8/dist-packages (from spacy->fastai==2.2.5) (1.0.9)\n",
            "Requirement already satisfied: catalogue<2.1.0,>=2.0.6 in /usr/local/lib/python3.8/dist-packages (from spacy->fastai==2.2.5) (2.0.8)\n",
            "Requirement already satisfied: pathy>=0.3.5 in /usr/local/lib/python3.8/dist-packages (from spacy->fastai==2.2.5) (0.10.1)\n",
            "Requirement already satisfied: spacy-loggers<2.0.0,>=1.0.0 in /usr/local/lib/python3.8/dist-packages (from spacy->fastai==2.2.5) (1.0.4)\n",
            "Requirement already satisfied: preshed<3.1.0,>=3.0.2 in /usr/local/lib/python3.8/dist-packages (from spacy->fastai==2.2.5) (3.0.8)\n",
            "Requirement already satisfied: pydantic!=1.8,!=1.8.1,<1.11.0,>=1.7.4 in /usr/local/lib/python3.8/dist-packages (from spacy->fastai==2.2.5) (1.10.4)\n",
            "Requirement already satisfied: wasabi<1.1.0,>=0.9.1 in /usr/local/lib/python3.8/dist-packages (from spacy->fastai==2.2.5) (0.10.1)\n",
            "Requirement already satisfied: spacy-legacy<3.1.0,>=3.0.10 in /usr/local/lib/python3.8/dist-packages (from spacy->fastai==2.2.5) (3.0.11)\n",
            "Requirement already satisfied: tqdm<5.0.0,>=4.38.0 in /usr/local/lib/python3.8/dist-packages (from spacy->fastai==2.2.5) (4.64.1)\n",
            "Requirement already satisfied: six>=1.5 in /usr/local/lib/python3.8/dist-packages (from python-dateutil>=2.1->matplotlib->fastai==2.2.5) (1.15.0)\n",
            "Requirement already satisfied: blis<0.8.0,>=0.7.8 in /usr/local/lib/python3.8/dist-packages (from thinc<8.2.0,>=8.1.0->spacy->fastai==2.2.5) (0.7.9)\n",
            "Requirement already satisfied: confection<1.0.0,>=0.0.1 in /usr/local/lib/python3.8/dist-packages (from thinc<8.2.0,>=8.1.0->spacy->fastai==2.2.5) (0.0.3)\n",
            "Requirement already satisfied: click<9.0.0,>=7.1.1 in /usr/local/lib/python3.8/dist-packages (from typer<0.8.0,>=0.3.0->spacy->fastai==2.2.5) (7.1.2)\n",
            "Requirement already satisfied: MarkupSafe>=0.23 in /usr/local/lib/python3.8/dist-packages (from jinja2->spacy->fastai==2.2.5) (2.0.1)\n"
          ]
        }
      ],
      "source": [
        "!pip install transformers\n",
        "!pip install fastai==2.2.5"
      ]
    },
    {
      "cell_type": "code",
      "source": [
        "!pip install git+https://github.com/ssut/py-hanspell.git"
      ],
      "metadata": {
        "colab": {
          "base_uri": "https://localhost:8080/"
        },
        "id": "JA19MfdEYdi_",
        "outputId": "be5454d5-3980-4f44-d4df-fbceabc1e981"
      },
      "execution_count": 20,
      "outputs": [
        {
          "output_type": "stream",
          "name": "stdout",
          "text": [
            "Looking in indexes: https://pypi.org/simple, https://us-python.pkg.dev/colab-wheels/public/simple/\n",
            "Collecting git+https://github.com/ssut/py-hanspell.git\n",
            "  Cloning https://github.com/ssut/py-hanspell.git to /tmp/pip-req-build-_allxlkd\n",
            "  Running command git clone --filter=blob:none --quiet https://github.com/ssut/py-hanspell.git /tmp/pip-req-build-_allxlkd\n",
            "  Resolved https://github.com/ssut/py-hanspell.git to commit 8e993cf46f97f9d665c15633a0fc78ac1b727713\n",
            "  Preparing metadata (setup.py) ... \u001b[?25l\u001b[?25hdone\n",
            "Requirement already satisfied: requests in /usr/local/lib/python3.8/dist-packages (from py-hanspell==1.1) (2.25.1)\n",
            "Requirement already satisfied: certifi>=2017.4.17 in /usr/local/lib/python3.8/dist-packages (from requests->py-hanspell==1.1) (2022.12.7)\n",
            "Requirement already satisfied: urllib3<1.27,>=1.21.1 in /usr/local/lib/python3.8/dist-packages (from requests->py-hanspell==1.1) (1.24.3)\n",
            "Requirement already satisfied: chardet<5,>=3.0.2 in /usr/local/lib/python3.8/dist-packages (from requests->py-hanspell==1.1) (4.0.0)\n",
            "Requirement already satisfied: idna<3,>=2.5 in /usr/local/lib/python3.8/dist-packages (from requests->py-hanspell==1.1) (2.10)\n"
          ]
        }
      ]
    },
    {
      "cell_type": "code",
      "source": [
        "from typing import Optional\n",
        "import torch\n",
        "import transformers\n",
        "from transformers import AutoModelWithLMHead, PreTrainedTokenizerFast\n",
        "from fastai.text.all import *\n",
        "import fastai\n",
        "import re\n",
        "from hanspell import spell_checker\n",
        "\n",
        "from tqdm import tqdm\n",
        "from quickspacer import Spacer\n"
      ],
      "metadata": {
        "id": "rlC28Qms3CQe"
      },
      "execution_count": 21,
      "outputs": []
    },
    {
      "cell_type": "code",
      "source": [
        "tokenizer = PreTrainedTokenizerFast.from_pretrained(\"skt/kogpt2-base-v2\",\n",
        "  bos_token='</s>', eos_token='</s>', unk_token='<unk>',\n",
        "  pad_token='<pad>', mask_token='<mask>') \n",
        "\n",
        "# koGPT2 언어 모델 학습을 위한 gpt2 LMHeadModel 선언\n",
        "model = AutoModelWithLMHead.from_pretrained(\"skt/kogpt2-base-v2\")\n",
        "text = \"\"\" 옛날 옛날 어느 마을에 흥부와 놀부 형제가 \"\"\"\n",
        "input_ids = tokenizer.encode(text)\n",
        "gen_ids = model.generate(torch.tensor([input_ids]),\n",
        "                           max_length=128,\n",
        "                           repetition_penalty=2.0,\n",
        "                           pad_token_id=tokenizer.pad_token_id,\n",
        "                           eos_token_id=tokenizer.eos_token_id,\n",
        "                           bos_token_id=tokenizer.bos_token_id,\n",
        "                           use_cache=True\n",
        "                        )\n",
        "generated = tokenizer.decode(gen_ids[0,:].tolist())\n",
        "print(generated)"
      ],
      "metadata": {
        "colab": {
          "base_uri": "https://localhost:8080/"
        },
        "id": "Kg35XVYG3Fau",
        "outputId": "ed1f5f4f-a7e7-453a-c092-64dcb045163a"
      },
      "execution_count": 22,
      "outputs": [
        {
          "output_type": "stream",
          "name": "stderr",
          "text": [
            "The tokenizer class you load from this checkpoint is not the same type as the class this function is called from. It may result in unexpected tokenization. \n",
            "The tokenizer class you load from this checkpoint is 'GPT2Tokenizer'. \n",
            "The class this function is called from is 'PreTrainedTokenizerFast'.\n",
            "/usr/local/lib/python3.8/dist-packages/transformers/models/auto/modeling_auto.py:1248: FutureWarning: The class `AutoModelWithLMHead` is deprecated and will be removed in a future version. Please use `AutoModelForCausalLM` for causal language models, `AutoModelForMaskedLM` for masked language models and `AutoModelForSeq2SeqLM` for encoder-decoder models.\n",
            "  warnings.warn(\n"
          ]
        },
        {
          "output_type": "stream",
          "name": "stdout",
          "text": [
            "옛날 옛날 어느 마을에 흥부와 놀부 형제가 왁자지껄 떠들어대며 \"우리 집엔 왜 이렇게 많은 사람들이 모여 사는 거야?\" 하고 묻는다.\n",
            "그런데 그 마을 사람들은 모두 다들 자기네 동네에 살고 있는 사람들이라고 한다.\n",
            "이렇게 해서 우리 마을은 '흥부가 살던 곳'이라는 뜻의 '고향'이 되었다.\n",
            "그리고 이 고향은 바로 지금의 서울 종로구 숭인동이다.\n",
            "숭인동은 원래 종로에서 가장 오래된 주택가였다.\n",
            "1970년대까지만 해도 이곳은 재개발로 인해 헐리고 빈집이 많아졌다.\n",
            "하지만 1980년대 들어 다시 활기를 되찾기 시작했다.\n",
            "당시만 하더라도 이곳에는 낡은 건물들이 많이 남아 있었다.\n",
            "그러나 1990년대 들어서부터는 예전의\n"
          ]
        }
      ]
    },
    {
      "cell_type": "code",
      "source": [
        "import pandas as pd\n",
        "data = pd.read_pickle('/content/drive/MyDrive/Kogpt2_리뷰생성/diningcode.pkl')\n",
        "data"
      ],
      "metadata": {
        "id": "YcEIGUeY4HTA",
        "colab": {
          "base_uri": "https://localhost:8080/",
          "height": 571
        },
        "outputId": "eac9c106-289f-4d74-dd7a-9ca5f685793f"
      },
      "execution_count": 23,
      "outputs": [
        {
          "output_type": "execute_result",
          "data": {
            "text/plain": [
              "      taste  price  service  \\\n",
              "0         2      2        2   \n",
              "1         1      1        1   \n",
              "2         2      2        2   \n",
              "3         2      2        2   \n",
              "4         2      2        1   \n",
              "...     ...    ...      ...   \n",
              "4923      2      2        2   \n",
              "4924      2      2        1   \n",
              "4925      2      2        1   \n",
              "4926      1      1        1   \n",
              "4927      2      0        1   \n",
              "\n",
              "                                                                                                                                                                                                                                                                                                                                reg_review  \n",
              "0                                                                                                                                                                                                                                                                    옛날에 와보고 생각나서 다시 방문했습니다 인삼이 통채로 들어가 있어서 좋아요 처음 나오는 인삼주는 뿌려서 먹으면 더 맛있어요  \n",
              "1                                                                                                                                                                                             논현동 핫한 고기집 워낙 유명한 집이라 월요일 분경 도착했는데 이미 많은 좌석이 찼다 목살과 등갈비 연탄에 구워주는데 당연 맛나다 등갈비 달큰하게 양념이 잘됬다 소주와 맛있는 고기 먹을 만한 곳 외부 주류 반입 안 되고 주변이 너무 시끄러운 것은 단점  \n",
              "2                                                                                                                                                                                                                                                                                                   맛있고 가격도 괜찮아요 여기서만 먹을 수 있는 메뉴들이 있어 좋았어요  \n",
              "3     동생이 추천해서 방문했습니다 일단 인테리어 너무 취향 저격이였어요 딥 그린과 우드의 조화라니 사장님 혼자 계셨는데 안쪽에는 직접 로스팅을 하고 계셨습니다 원두는 두 가지 있는데 제가 마신 거는 고소한 맛이 났습니다 너무 산미있거나 하는 건 별로 안 좋아하는데 약간 과일 향도 있고 커피가 참 맛있었어요 스마트 주문하고 가면 캐쉬백도 되고 테이크아웃이라 그런지 좀 더 저렴했습니다 매장에 자리도 적당히 있어서 코로나만 아니면 카페에서 시간 보내고 싶어요 나만 알고 싶은 카페입니다만 다 코에 올려봅니다 사장님도 친절하시고 원두도 직접 판매하고 있어서 집에서 내려먹어도 될 것 같아요  \n",
              "4                                                                                                                                                                                                                                                                                                           매장 앞 무료 주차 가능키오스크 주문층층으로 좌석 많음  \n",
              "...                                                                                                                                                                                                                                                                                                                                    ...  \n",
              "4923                                                                                                                                                                                       성수동에 위치한 숨은 카페에요 가게 내부가 넓진 않지만 테이블이 그래도 많은 편이라서 웨이팅은 없이 들어갔어요 커피가 맛있긴 한데 양이 너무 적어요 ㅋㅋㅋ 앙버터랑 버터 프레즐은 버터가 짭쪼롬하니 맛있어요 그리고 여긴 화장실 맛집이에요 화장실이 예뻐요 ㅎㅎ  \n",
              "4924              와우홀릭 세트에 후라이 바스켓을 추가 주문했습니다 떡볶이는 단계로 주문했는데 처음에만 좀 맵고 점점 녹은 치즈에 중화되어서 끝에는 거의 맵지 않았어요 치즈가 토치에 녹여서 나오기 때문에 의외로 불맛이 좀 나는데 안 어울려서 아쉬웠어요 모둠튀김과 갈릭감자는 모두 맛있었습니다 특히 오다리 튀김이 조금 이색적이고 생각보다 야들해서 좋았어요 매장이 작지만 홀포장 배달 회전율이 좋고 서비스도 친절한 편입니다 코로나로 인해 포장 주문 고객에 서비스가 있으니 참고하면 좋을 것 같아요 다음번엔 단계 매운 맛으로 재방문할 의향이 있지만 대기할 정도까진 아닌 것 같습니다  \n",
              "4925                                                                                                                                                                                                                                                                                   가지 튀김 탕수육과 함께 칭따오 맥주 마셨는데 맛있네요 ㅎㅎ 밑반찬으로 나오는 땅콩도 좋아요  \n",
              "4926                                                                                                                                                                                                                                                      인테리어가 너무 예쁘고 가게에 들어설 때 나는 커피 향이 기분을 들뜨게 만들어요 그런데 커피는 몰라도 디저트류는 잘 모르겠네요 조금 아쉬웠습니다  \n",
              "4927                                                                                                                                                                                                                                    버거 번이 버터가 듬뿍 들어간 부드럽고 고소한 빵 맛이고 패티도 맛있다 처음 본 메뉴인 칠리버거도 맛있었다 하지만 비싼 가격에 비해 버거 사이즈가 터무니없이 작다고 생각한다 ㅜ  \n",
              "\n",
              "[24642 rows x 4 columns]"
            ],
            "text/html": [
              "\n",
              "  <div id=\"df-86bc4bdc-14cb-4365-9745-a9ab09cf0081\">\n",
              "    <div class=\"colab-df-container\">\n",
              "      <div>\n",
              "<style scoped>\n",
              "    .dataframe tbody tr th:only-of-type {\n",
              "        vertical-align: middle;\n",
              "    }\n",
              "\n",
              "    .dataframe tbody tr th {\n",
              "        vertical-align: top;\n",
              "    }\n",
              "\n",
              "    .dataframe thead th {\n",
              "        text-align: right;\n",
              "    }\n",
              "</style>\n",
              "<table border=\"1\" class=\"dataframe\">\n",
              "  <thead>\n",
              "    <tr style=\"text-align: right;\">\n",
              "      <th></th>\n",
              "      <th>taste</th>\n",
              "      <th>price</th>\n",
              "      <th>service</th>\n",
              "      <th>reg_review</th>\n",
              "    </tr>\n",
              "  </thead>\n",
              "  <tbody>\n",
              "    <tr>\n",
              "      <th>0</th>\n",
              "      <td>2</td>\n",
              "      <td>2</td>\n",
              "      <td>2</td>\n",
              "      <td>옛날에 와보고 생각나서 다시 방문했습니다 인삼이 통채로 들어가 있어서 좋아요 처음 나오는 인삼주는 뿌려서 먹으면 더 맛있어요</td>\n",
              "    </tr>\n",
              "    <tr>\n",
              "      <th>1</th>\n",
              "      <td>1</td>\n",
              "      <td>1</td>\n",
              "      <td>1</td>\n",
              "      <td>논현동 핫한 고기집 워낙 유명한 집이라 월요일 분경 도착했는데 이미 많은 좌석이 찼다 목살과 등갈비 연탄에 구워주는데 당연 맛나다 등갈비 달큰하게 양념이 잘됬다 소주와 맛있는 고기 먹을 만한 곳 외부 주류 반입 안 되고 주변이 너무 시끄러운 것은 단점</td>\n",
              "    </tr>\n",
              "    <tr>\n",
              "      <th>2</th>\n",
              "      <td>2</td>\n",
              "      <td>2</td>\n",
              "      <td>2</td>\n",
              "      <td>맛있고 가격도 괜찮아요 여기서만 먹을 수 있는 메뉴들이 있어 좋았어요</td>\n",
              "    </tr>\n",
              "    <tr>\n",
              "      <th>3</th>\n",
              "      <td>2</td>\n",
              "      <td>2</td>\n",
              "      <td>2</td>\n",
              "      <td>동생이 추천해서 방문했습니다 일단 인테리어 너무 취향 저격이였어요 딥 그린과 우드의 조화라니 사장님 혼자 계셨는데 안쪽에는 직접 로스팅을 하고 계셨습니다 원두는 두 가지 있는데 제가 마신 거는 고소한 맛이 났습니다 너무 산미있거나 하는 건 별로 안 좋아하는데 약간 과일 향도 있고 커피가 참 맛있었어요 스마트 주문하고 가면 캐쉬백도 되고 테이크아웃이라 그런지 좀 더 저렴했습니다 매장에 자리도 적당히 있어서 코로나만 아니면 카페에서 시간 보내고 싶어요 나만 알고 싶은 카페입니다만 다 코에 올려봅니다 사장님도 친절하시고 원두도 직접 판매하고 있어서 집에서 내려먹어도 될 것 같아요</td>\n",
              "    </tr>\n",
              "    <tr>\n",
              "      <th>4</th>\n",
              "      <td>2</td>\n",
              "      <td>2</td>\n",
              "      <td>1</td>\n",
              "      <td>매장 앞 무료 주차 가능키오스크 주문층층으로 좌석 많음</td>\n",
              "    </tr>\n",
              "    <tr>\n",
              "      <th>...</th>\n",
              "      <td>...</td>\n",
              "      <td>...</td>\n",
              "      <td>...</td>\n",
              "      <td>...</td>\n",
              "    </tr>\n",
              "    <tr>\n",
              "      <th>4923</th>\n",
              "      <td>2</td>\n",
              "      <td>2</td>\n",
              "      <td>2</td>\n",
              "      <td>성수동에 위치한 숨은 카페에요 가게 내부가 넓진 않지만 테이블이 그래도 많은 편이라서 웨이팅은 없이 들어갔어요 커피가 맛있긴 한데 양이 너무 적어요 ㅋㅋㅋ 앙버터랑 버터 프레즐은 버터가 짭쪼롬하니 맛있어요 그리고 여긴 화장실 맛집이에요 화장실이 예뻐요 ㅎㅎ</td>\n",
              "    </tr>\n",
              "    <tr>\n",
              "      <th>4924</th>\n",
              "      <td>2</td>\n",
              "      <td>2</td>\n",
              "      <td>1</td>\n",
              "      <td>와우홀릭 세트에 후라이 바스켓을 추가 주문했습니다 떡볶이는 단계로 주문했는데 처음에만 좀 맵고 점점 녹은 치즈에 중화되어서 끝에는 거의 맵지 않았어요 치즈가 토치에 녹여서 나오기 때문에 의외로 불맛이 좀 나는데 안 어울려서 아쉬웠어요 모둠튀김과 갈릭감자는 모두 맛있었습니다 특히 오다리 튀김이 조금 이색적이고 생각보다 야들해서 좋았어요 매장이 작지만 홀포장 배달 회전율이 좋고 서비스도 친절한 편입니다 코로나로 인해 포장 주문 고객에 서비스가 있으니 참고하면 좋을 것 같아요 다음번엔 단계 매운 맛으로 재방문할 의향이 있지만 대기할 정도까진 아닌 것 같습니다</td>\n",
              "    </tr>\n",
              "    <tr>\n",
              "      <th>4925</th>\n",
              "      <td>2</td>\n",
              "      <td>2</td>\n",
              "      <td>1</td>\n",
              "      <td>가지 튀김 탕수육과 함께 칭따오 맥주 마셨는데 맛있네요 ㅎㅎ 밑반찬으로 나오는 땅콩도 좋아요</td>\n",
              "    </tr>\n",
              "    <tr>\n",
              "      <th>4926</th>\n",
              "      <td>1</td>\n",
              "      <td>1</td>\n",
              "      <td>1</td>\n",
              "      <td>인테리어가 너무 예쁘고 가게에 들어설 때 나는 커피 향이 기분을 들뜨게 만들어요 그런데 커피는 몰라도 디저트류는 잘 모르겠네요 조금 아쉬웠습니다</td>\n",
              "    </tr>\n",
              "    <tr>\n",
              "      <th>4927</th>\n",
              "      <td>2</td>\n",
              "      <td>0</td>\n",
              "      <td>1</td>\n",
              "      <td>버거 번이 버터가 듬뿍 들어간 부드럽고 고소한 빵 맛이고 패티도 맛있다 처음 본 메뉴인 칠리버거도 맛있었다 하지만 비싼 가격에 비해 버거 사이즈가 터무니없이 작다고 생각한다 ㅜ</td>\n",
              "    </tr>\n",
              "  </tbody>\n",
              "</table>\n",
              "<p>24642 rows × 4 columns</p>\n",
              "</div>\n",
              "      <button class=\"colab-df-convert\" onclick=\"convertToInteractive('df-86bc4bdc-14cb-4365-9745-a9ab09cf0081')\"\n",
              "              title=\"Convert this dataframe to an interactive table.\"\n",
              "              style=\"display:none;\">\n",
              "        \n",
              "  <svg xmlns=\"http://www.w3.org/2000/svg\" height=\"24px\"viewBox=\"0 0 24 24\"\n",
              "       width=\"24px\">\n",
              "    <path d=\"M0 0h24v24H0V0z\" fill=\"none\"/>\n",
              "    <path d=\"M18.56 5.44l.94 2.06.94-2.06 2.06-.94-2.06-.94-.94-2.06-.94 2.06-2.06.94zm-11 1L8.5 8.5l.94-2.06 2.06-.94-2.06-.94L8.5 2.5l-.94 2.06-2.06.94zm10 10l.94 2.06.94-2.06 2.06-.94-2.06-.94-.94-2.06-.94 2.06-2.06.94z\"/><path d=\"M17.41 7.96l-1.37-1.37c-.4-.4-.92-.59-1.43-.59-.52 0-1.04.2-1.43.59L10.3 9.45l-7.72 7.72c-.78.78-.78 2.05 0 2.83L4 21.41c.39.39.9.59 1.41.59.51 0 1.02-.2 1.41-.59l7.78-7.78 2.81-2.81c.8-.78.8-2.07 0-2.86zM5.41 20L4 18.59l7.72-7.72 1.47 1.35L5.41 20z\"/>\n",
              "  </svg>\n",
              "      </button>\n",
              "      \n",
              "  <style>\n",
              "    .colab-df-container {\n",
              "      display:flex;\n",
              "      flex-wrap:wrap;\n",
              "      gap: 12px;\n",
              "    }\n",
              "\n",
              "    .colab-df-convert {\n",
              "      background-color: #E8F0FE;\n",
              "      border: none;\n",
              "      border-radius: 50%;\n",
              "      cursor: pointer;\n",
              "      display: none;\n",
              "      fill: #1967D2;\n",
              "      height: 32px;\n",
              "      padding: 0 0 0 0;\n",
              "      width: 32px;\n",
              "    }\n",
              "\n",
              "    .colab-df-convert:hover {\n",
              "      background-color: #E2EBFA;\n",
              "      box-shadow: 0px 1px 2px rgba(60, 64, 67, 0.3), 0px 1px 3px 1px rgba(60, 64, 67, 0.15);\n",
              "      fill: #174EA6;\n",
              "    }\n",
              "\n",
              "    [theme=dark] .colab-df-convert {\n",
              "      background-color: #3B4455;\n",
              "      fill: #D2E3FC;\n",
              "    }\n",
              "\n",
              "    [theme=dark] .colab-df-convert:hover {\n",
              "      background-color: #434B5C;\n",
              "      box-shadow: 0px 1px 3px 1px rgba(0, 0, 0, 0.15);\n",
              "      filter: drop-shadow(0px 1px 2px rgba(0, 0, 0, 0.3));\n",
              "      fill: #FFFFFF;\n",
              "    }\n",
              "  </style>\n",
              "\n",
              "      <script>\n",
              "        const buttonEl =\n",
              "          document.querySelector('#df-86bc4bdc-14cb-4365-9745-a9ab09cf0081 button.colab-df-convert');\n",
              "        buttonEl.style.display =\n",
              "          google.colab.kernel.accessAllowed ? 'block' : 'none';\n",
              "\n",
              "        async function convertToInteractive(key) {\n",
              "          const element = document.querySelector('#df-86bc4bdc-14cb-4365-9745-a9ab09cf0081');\n",
              "          const dataTable =\n",
              "            await google.colab.kernel.invokeFunction('convertToInteractive',\n",
              "                                                     [key], {});\n",
              "          if (!dataTable) return;\n",
              "\n",
              "          const docLinkHtml = 'Like what you see? Visit the ' +\n",
              "            '<a target=\"_blank\" href=https://colab.research.google.com/notebooks/data_table.ipynb>data table notebook</a>'\n",
              "            + ' to learn more about interactive tables.';\n",
              "          element.innerHTML = '';\n",
              "          dataTable['output_type'] = 'display_data';\n",
              "          await google.colab.output.renderOutput(dataTable, element);\n",
              "          const docLink = document.createElement('div');\n",
              "          docLink.innerHTML = docLinkHtml;\n",
              "          element.appendChild(docLink);\n",
              "        }\n",
              "      </script>\n",
              "    </div>\n",
              "  </div>\n",
              "  "
            ]
          },
          "metadata": {},
          "execution_count": 23
        }
      ]
    },
    {
      "cell_type": "code",
      "source": [
        "# 칼럼 이름 수정\n",
        "data.rename(columns={'reg_review':'review'},inplace=True)"
      ],
      "metadata": {
        "id": "4hDJ3k1Cwhgq"
      },
      "execution_count": 24,
      "outputs": []
    },
    {
      "cell_type": "code",
      "source": [
        "# 한국어 띄어쓰기 교정 모델.\n",
        "spacer = Spacer(level=3)\n",
        "\n",
        "lines= []\n",
        "for i in tqdm(range(len(data))):\n",
        "  review = data['review'].iloc[i]\n",
        "  \n",
        "  # 리뷰의 길이가 10이상인 리뷰만 해당시킵니다.\n",
        "  if len(review) >= 10 :\n",
        "    sent = re.sub('[-=+,#/\\?:^.@*\\\"※~ㆍ!』‘|\\(\\)\\[\\]`\\'…》\\”\\“\\’·]', ' ', data['review'].iloc[i])\n",
        "     #spacer 띄어쓰기 검사기\n",
        "    sen_fix = str(spacer.space([sent])).strip(\"[\"\"]\").strip(\"'\"\"'\")\n",
        "    lines.append(sen_fix)\n"
      ],
      "metadata": {
        "colab": {
          "base_uri": "https://localhost:8080/"
        },
        "id": "tb-neDc-MzLL",
        "outputId": "b584d8aa-1111-4887-9244-486f5397f807"
      },
      "execution_count": 25,
      "outputs": [
        {
          "output_type": "stream",
          "name": "stderr",
          "text": [
            "100%|██████████| 24642/24642 [01:46<00:00, 232.29it/s]\n"
          ]
        }
      ]
    },
    {
      "cell_type": "code",
      "source": [
        "# 리스트 합치기\n",
        "lines =\",\".join(lines)\n"
      ],
      "metadata": {
        "id": "rAjPUxMg5T8Z"
      },
      "execution_count": 26,
      "outputs": []
    },
    {
      "cell_type": "code",
      "source": [
        "#model input output tokenizer\n",
        "class TransformersTokenizer(Transform):\n",
        "   def __init__(self, tokenizer): self.tokenizer = tokenizer\n",
        "   def encodes(self, x): \n",
        "       toks = self.tokenizer.tokenize(x)\n",
        "       return tensor(self.tokenizer.convert_tokens_to_ids(toks))\n",
        "   def decodes(self, x): return TitledStr(self.tokenizer.decode(x.cpu().numpy()))\n",
        "\n",
        "#split data\n",
        "train=lines[:int(len(lines)*0.9)]\n",
        "test=lines[int(len(lines)*0.9):]\n",
        "splits = [[0],[1]]\n",
        "\n",
        "#init dataloader\n",
        "tls = TfmdLists([train,test], TransformersTokenizer(tokenizer), splits=splits, dl_type=LMDataLoader)\n",
        "batch,seq_len = 8,256\n",
        "dls = tls.dataloaders(bs=batch, seq_len=seq_len)"
      ],
      "metadata": {
        "id": "9LWP_ltA3omP"
      },
      "execution_count": 27,
      "outputs": []
    },
    {
      "cell_type": "markdown",
      "source": [
        "# 데이터 학습"
      ],
      "metadata": {
        "id": "eX1kHJby5_R9"
      }
    },
    {
      "cell_type": "markdown",
      "source": [
        "to_fp16() : 반정밀 / 메모리 사용량을 줄이기 위한 아이디어 \n",
        "> https://docs.fast.ai/callback.fp16.html\n",
        "\n",
        "\n",
        "학습률에 대해\n",
        "> https://www.kaggle.com/code/sungjunghwan/fast-ai-3-1-v3-lesson-1\n"
      ],
      "metadata": {
        "id": "q3Y57DWWuyc-"
      }
    },
    {
      "cell_type": "markdown",
      "source": [
        "# 메모리 문제있을때"
      ],
      "metadata": {
        "id": "WxqyQgvH2Z9u"
      }
    },
    {
      "cell_type": "code",
      "source": [
        "import gc\n",
        "import torch\n",
        "gc.collect()\n",
        "torch.cuda.empty_cache()"
      ],
      "metadata": {
        "id": "2fzOFPl919TZ"
      },
      "execution_count": 28,
      "outputs": []
    },
    {
      "cell_type": "code",
      "source": [
        "# 파이썬 좀비 프로세스 종료\n",
        "! ps -ef | grep python"
      ],
      "metadata": {
        "colab": {
          "base_uri": "https://localhost:8080/"
        },
        "id": "s7FKkyDf2kJu",
        "outputId": "d73effc8-4cba-4462-c6fc-f348f0ed4e7c"
      },
      "execution_count": 29,
      "outputs": [
        {
          "output_type": "stream",
          "name": "stdout",
          "text": [
            "root          57       7  0 04:39 ?        00:00:03 [python3] <defunct>\n",
            "root          58       7  0 04:39 ?        00:00:00 python3 /usr/local/bin/colab-fileshim.py\n",
            "root          94       7  0 04:39 ?        00:00:09 /usr/bin/python3 /usr/local/bin/jupyter-notebook --ip=172.28.0.12 --transport=ipc --port=9000 --FileContentsManager.root_dir=/ --MappingKernelManager.root_dir=/content\n",
            "root        1320       1  0 04:43 ?        00:00:00 bash -c tail -n +0 -F \"/root/.config/Google/DriveFS/Logs/drive_fs.txt\" | python3 /opt/google/drive/drive-filter.py > \"/root/.config/Google/DriveFS/Logs/timeouts.txt\" \n",
            "root        1323    1320  0 04:43 ?        00:00:00 python3 /opt/google/drive/drive-filter.py\n",
            "root        6947      94 24 05:05 ?        00:07:48 /usr/bin/python3 -m ipykernel_launcher -f /root/.local/share/jupyter/runtime/kernel-e311b0c7-3c76-4fd8-958c-f5a348307483.json\n",
            "root        6976       1  0 05:05 ?        00:00:03 /usr/bin/python3 /usr/local/lib/python3.8/dist-packages/debugpy/adapter --for-server 43523 --host 127.0.0.1 --port 18953 --server-access-token d6e750eb08d552aca2a7066f3a4f5105a3ed741b541b4bd50f4213b8b2ea61cd\n",
            "root       15242    6947  0 05:36 ?        00:00:00 /bin/bash -c  ps -ef | grep python\n",
            "root       15244   15242  0 05:36 ?        00:00:00 grep python\n"
          ]
        }
      ]
    },
    {
      "cell_type": "markdown",
      "source": [
        "# 학습"
      ],
      "metadata": {
        "id": "TXpw5imw2d3a"
      }
    },
    {
      "cell_type": "markdown",
      "source": [
        "fine_tune vs fit_one_cycle 에 대해\n",
        "https://forums.fast.ai/t/fine-tune-vs-fit-one-cycle/66029/7\n",
        "\n",
        "\n",
        "fit_one_cycle = 새로운 모델에 대해 사용하는 것 같고 // +@ 이미 잘 학습된 모델에서 fc layer만 학습시키는 함수. ( 전이 학습)\n",
        "fit_one_cycle 함수를 쓰기 이전에 unfreeze() 를 쓰면, 모든 layer를 학습 시킬수 있음 (시간이 오래걸림)\n",
        "\n",
        "\n",
        "\n",
        "fine_tune = 전이 학습 포함, 즉 전이 학습 모델에 대해 사용하는 것 같음.\n",
        "다만 fit_on_cycle도 전이학습 모델에 사용할 순 있음.\n",
        "\n",
        "fine_tune 메서드에 unfreeze도 포함되어 있어, \n",
        "fine_tune을 사용할땐, 따로 unfreeze를 사용하지 않아도 되는것 같다."
      ],
      "metadata": {
        "id": "fNgMbIlJEcep"
      }
    },
    {
      "cell_type": "markdown",
      "source": [
        "fastai 학습률에 관한글\n",
        "\n",
        "https://github.com/jehyunlee/texts/blob/master/estimating_an_optimal_learning_rate_for_a_deep_neural_network/text.md"
      ],
      "metadata": {
        "id": "jDxr4Tnh8_Zo"
      }
    },
    {
      "cell_type": "code",
      "source": [
        "#gpt2 ouput is tuple, we need just one val\n",
        "class DropOutput(Callback):\n",
        "    def after_pred(self): self.learn.pred = self.pred[0]\n",
        "        \n",
        "      \n",
        "      #  내부적으로는 원본 모델의 마지막에 현재 주어진 data의 분류에 알맞는 fully connected layer가 자동으로 추가됨.\n",
        "learn = Learner(dls, model, loss_func=CrossEntropyLossFlat(), cbs=[DropOutput], metrics=Perplexity()).to_fp16()\n",
        "# 학습률 찾기\n",
        "lr=learn.lr_find()\n",
        "print(lr)\n",
        "\n",
        "\n",
        "# loss 가 감소하는 지점을 찾자.\n",
        "\n",
        "# 1e-7~1e-3까지 loss가 감소함."
      ],
      "metadata": {
        "colab": {
          "base_uri": "https://localhost:8080/",
          "height": 301
        },
        "id": "pmWW62yf04ii",
        "outputId": "9287b9fc-90d8-4bf2-d0c5-6d4ce357219e"
      },
      "execution_count": 30,
      "outputs": [
        {
          "output_type": "display_data",
          "data": {
            "text/plain": [
              "<IPython.core.display.HTML object>"
            ],
            "text/html": [
              "\n",
              "<style>\n",
              "    /* Turns off some styling */\n",
              "    progress {\n",
              "        /* gets rid of default border in Firefox and Opera. */\n",
              "        border: none;\n",
              "        /* Needs to be in here for Safari polyfill so background images work as expected. */\n",
              "        background-size: auto;\n",
              "    }\n",
              "    progress:not([value]), progress:not([value])::-webkit-progress-bar {\n",
              "        background: repeating-linear-gradient(45deg, #7e7e7e, #7e7e7e 10px, #5c5c5c 10px, #5c5c5c 20px);\n",
              "    }\n",
              "    .progress-bar-interrupted, .progress-bar-interrupted::-webkit-progress-bar {\n",
              "        background: #F44336;\n",
              "    }\n",
              "</style>\n"
            ]
          },
          "metadata": {}
        },
        {
          "output_type": "display_data",
          "data": {
            "text/plain": [
              "<IPython.core.display.HTML object>"
            ],
            "text/html": []
          },
          "metadata": {}
        },
        {
          "output_type": "stream",
          "name": "stdout",
          "text": [
            "SuggestedLRs(lr_min=0.00831763744354248, lr_steep=0.0691830962896347)\n"
          ]
        },
        {
          "output_type": "display_data",
          "data": {
            "text/plain": [
              "<Figure size 432x288 with 1 Axes>"
            ],
            "image/png": "[encoded data removed]"
          },
          "metadata": {
            "needs_background": "light"
          }
        }
      ]
    },
    {
      "cell_type": "markdown",
      "source": [
        "# Train"
      ],
      "metadata": {
        "id": "mOZCMqOGvJ2s"
      }
    },
    {
      "cell_type": "code",
      "source": [
        "# loss가 오르는 지점 전 (1e-3)을 학습률로 설정한후 학습진행을 합니다.\n",
        "learn.fit_one_cycle(3,1e-3)\n"
      ],
      "metadata": {
        "colab": {
          "base_uri": "https://localhost:8080/",
          "height": 143
        },
        "id": "6__EORflH9Gs",
        "outputId": "804118ea-ea25-4e34-c94e-34116b72d9b1"
      },
      "execution_count": 31,
      "outputs": [
        {
          "output_type": "display_data",
          "data": {
            "text/plain": [
              "<IPython.core.display.HTML object>"
            ],
            "text/html": [
              "\n",
              "<style>\n",
              "    /* Turns off some styling */\n",
              "    progress {\n",
              "        /* gets rid of default border in Firefox and Opera. */\n",
              "        border: none;\n",
              "        /* Needs to be in here for Safari polyfill so background images work as expected. */\n",
              "        background-size: auto;\n",
              "    }\n",
              "    progress:not([value]), progress:not([value])::-webkit-progress-bar {\n",
              "        background: repeating-linear-gradient(45deg, #7e7e7e, #7e7e7e 10px, #5c5c5c 10px, #5c5c5c 20px);\n",
              "    }\n",
              "    .progress-bar-interrupted, .progress-bar-interrupted::-webkit-progress-bar {\n",
              "        background: #F44336;\n",
              "    }\n",
              "</style>\n"
            ]
          },
          "metadata": {}
        },
        {
          "output_type": "display_data",
          "data": {
            "text/plain": [
              "<IPython.core.display.HTML object>"
            ],
            "text/html": [
              "<table border=\"1\" class=\"dataframe\">\n",
              "  <thead>\n",
              "    <tr style=\"text-align: left;\">\n",
              "      <th>epoch</th>\n",
              "      <th>train_loss</th>\n",
              "      <th>valid_loss</th>\n",
              "      <th>perplexity</th>\n",
              "      <th>time</th>\n",
              "    </tr>\n",
              "  </thead>\n",
              "  <tbody>\n",
              "    <tr>\n",
              "      <td>0</td>\n",
              "      <td>4.488517</td>\n",
              "      <td>4.402189</td>\n",
              "      <td>81.629379</td>\n",
              "      <td>02:42</td>\n",
              "    </tr>\n",
              "    <tr>\n",
              "      <td>1</td>\n",
              "      <td>3.834944</td>\n",
              "      <td>4.019440</td>\n",
              "      <td>55.669907</td>\n",
              "      <td>02:43</td>\n",
              "    </tr>\n",
              "    <tr>\n",
              "      <td>2</td>\n",
              "      <td>3.055037</td>\n",
              "      <td>3.887507</td>\n",
              "      <td>48.789089</td>\n",
              "      <td>02:43</td>\n",
              "    </tr>\n",
              "  </tbody>\n",
              "</table>"
            ]
          },
          "metadata": {}
        }
      ]
    },
    {
      "cell_type": "markdown",
      "source": [
        "# 모델 저장하기"
      ],
      "metadata": {
        "id": "EMgrbooL3wPN"
      }
    },
    {
      "cell_type": "code",
      "source": [
        "# learn.save('/content/drive/MyDrive/특론 프로젝트/koGPTmodel')\n",
        "learn.model.save_pretrained('/content/drive/MyDrive/Kogpt2_리뷰생성/koGPTmodel')\n"
      ],
      "metadata": {
        "id": "-7zO9X4M3x2G"
      },
      "execution_count": 32,
      "outputs": []
    },
    {
      "cell_type": "markdown",
      "source": [
        "# 모델 불러오기"
      ],
      "metadata": {
        "id": "rVhK4Qt44AEh"
      }
    },
    {
      "cell_type": "code",
      "source": [
        "# learn.load('/content/drive/MyDrive/Kogpt2_리뷰생성/koGPTmodel')"
      ],
      "metadata": {
        "id": "rGw792Dv3_je"
      },
      "execution_count": null,
      "outputs": []
    },
    {
      "cell_type": "markdown",
      "source": [
        "# 학습된 모델 테스트"
      ],
      "metadata": {
        "id": "xk5T3xPH6JPf"
      }
    },
    {
      "cell_type": "code",
      "source": [
        "# 리뷰를 생성하기 위해 제시 문장을 입력합니다.\n",
        "prompt='음식이 맛있고, 직원분들이 친절합니다'\n",
        "\n",
        "\n",
        "\n",
        "prompt_ids = tokenizer.encode(prompt)\n",
        "inp = tensor(prompt_ids)[None].cuda()\n",
        "preds = learn.model.generate(inp,\n",
        "                             \n",
        "                            #  max_length : 생성 최대 길이\n",
        "                           #128->64  \n",
        "                           max_length=64,\n",
        "                           pad_token_id=tokenizer.pad_token_id,\n",
        "                           eos_token_id=tokenizer.eos_token_id,\n",
        "                           bos_token_id=tokenizer.bos_token_id,\n",
        "                           repetition_penalty=1.5,       \n",
        "                           use_cache=True\n",
        "                          ) \n",
        "\n",
        "# generate_sen\n",
        "generate_sen = tokenizer.decode(preds[0].cpu().numpy())\n",
        "\n",
        "\n",
        "# 네이버에서 배포한 한국어 맞춤범, 띄어쓰기 교정기 hanspell을 통하여 생성된 문장을 교정합니다.\n",
        "hanspell_sen = spell_checker.check(generate_sen).checked\n",
        "hanspell_sen\n",
        "\n",
        "print('생성된 문장:\\n',hanspell_sen)\n"
      ],
      "metadata": {
        "id": "oJitFMIg5t12",
        "colab": {
          "base_uri": "https://localhost:8080/"
        },
        "outputId": "891bd504-bb7b-4fbc-c8a0-2e4e4c9cdbe1"
      },
      "execution_count": 39,
      "outputs": [
        {
          "output_type": "stream",
          "name": "stdout",
          "text": [
            "생성된 문장:\n",
            " 음식이 맛있고, 직원분들이 친절합니다 음식도 빨리 나오고요 ᄒ, 맛있어 요양이 진짜 많아요, 오랜만에 갔는데 여전히 만족스러운 식사였습니다, 주말 점심시간에 방문했는데 웨이팅이 있었어요 근데 기다려서 먹을 만큼은 아닌 것 같아 용 그래도\n"
          ]
        }
      ]
    },
    {
      "cell_type": "code",
      "source": [],
      "metadata": {
        "id": "rWMZ3aJHXREy"
      },
      "execution_count": null,
      "outputs": []
    }
  ]
}